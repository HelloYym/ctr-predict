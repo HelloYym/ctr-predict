{
 "cells": [
  {
   "cell_type": "code",
   "execution_count": 3,
   "metadata": {},
   "outputs": [
    {
     "ename": "ImportError",
     "evalue": "cannot import name 'add_features_ctr'",
     "output_type": "error",
     "traceback": [
      "\u001b[0;31m---------------------------------------------------------------------------\u001b[0m",
      "\u001b[0;31mImportError\u001b[0m                               Traceback (most recent call last)",
      "\u001b[0;32m<ipython-input-3-66b4cffd48b5>\u001b[0m in \u001b[0;36m<module>\u001b[0;34m()\u001b[0m\n\u001b[1;32m     13\u001b[0m \u001b[0;32mfrom\u001b[0m \u001b[0m_2_3_gen_tricks\u001b[0m \u001b[0;32mimport\u001b[0m \u001b[0madd_user_click_rank_day\u001b[0m\u001b[0;34m,\u001b[0m \u001b[0madd_user_click_time_interval_day\u001b[0m\u001b[0;34m,\u001b[0m \u001b[0madd_user_feature_click_rank\u001b[0m\u001b[0;34m,\u001b[0m \u001b[0madd_user_feature_click_rank_day\u001b[0m\u001b[0;34m\u001b[0m\u001b[0m\n\u001b[1;32m     14\u001b[0m \u001b[0;32mfrom\u001b[0m \u001b[0m_2_4_gen_predict_category_property\u001b[0m \u001b[0;32mimport\u001b[0m \u001b[0madd_category_predict_rank\u001b[0m\u001b[0;34m\u001b[0m\u001b[0m\n\u001b[0;32m---> 15\u001b[0;31m \u001b[0;32mfrom\u001b[0m \u001b[0m_2_5_ctr_smooth\u001b[0m \u001b[0;32mimport\u001b[0m \u001b[0madd_features_ctr\u001b[0m\u001b[0;34m,\u001b[0m \u001b[0mgen_features_smooth_ctr\u001b[0m\u001b[0;34m,\u001b[0m \u001b[0madd_features_smooth_ctr\u001b[0m\u001b[0;34m\u001b[0m\u001b[0m\n\u001b[0m\u001b[1;32m     16\u001b[0m \u001b[0;32mfrom\u001b[0m \u001b[0m_2_6_gen_CountVector\u001b[0m \u001b[0;32mimport\u001b[0m \u001b[0madd_TfidfTransformer\u001b[0m\u001b[0;34m\u001b[0m\u001b[0m\n\u001b[1;32m     17\u001b[0m \u001b[0;32mfrom\u001b[0m \u001b[0m_2_7_gen_click_num\u001b[0m \u001b[0;32mimport\u001b[0m \u001b[0madd_feature_click_hour\u001b[0m\u001b[0;34m,\u001b[0m \u001b[0madd_feature_click_day\u001b[0m\u001b[0;34m,\u001b[0m \u001b[0madd_feature_click_history\u001b[0m\u001b[0;34m\u001b[0m\u001b[0m\n",
      "\u001b[0;31mImportError\u001b[0m: cannot import name 'add_features_ctr'"
     ]
    }
   ],
   "source": [
    "import os\n",
    "import zipfile\n",
    "import time\n",
    "import pickle\n",
    "import gc\n",
    "\n",
    "import pandas as pd\n",
    "import numpy as np\n",
    "from tqdm import tqdm\n",
    "\n",
    "from _2_1_gen_user_click_features import add_user_feature_click_hour, add_user_feature_click_day, add_user_feature_click_history, add_user_click_stats\n",
    "from _2_2_gen_statistics_features import add_feature_click_stats\n",
    "from _2_3_gen_tricks import add_user_click_rank_day, add_user_click_time_interval_day, add_user_feature_click_rank, add_user_feature_click_rank_day\n",
    "from _2_4_gen_predict_category_property import add_category_predict_rank\n",
    "from _2_5_ctr_smooth import add_features_ctr, gen_features_smooth_ctr, add_features_smooth_ctr\n",
    "from _2_6_gen_CountVector import add_TfidfTransformer\n",
    "from _2_7_gen_click_num import add_feature_click_hour, add_feature_click_day, add_feature_click_history\n",
    "\n",
    "from utils import load_pickle, dump_pickle, get_feature_value, feature_spearmanr, feature_target_spearmanr, addCrossFeature, calibration\n",
    "from utils import raw_data_path, feature_data_path, cache_pkl_path, analyse"
   ]
  },
  {
   "cell_type": "code",
   "execution_count": 2,
   "metadata": {
    "collapsed": true
   },
   "outputs": [],
   "source": [
    "def gen_all_data_all_features():\n",
    "\n",
    "    \n",
    "    all_data = load_pickle(raw_data_path+'all_data.pkl')\n",
    "    all_data.drop(['item_category_list', 'item_property_list', 'predict_category_property'], axis=1, inplace=True)\n",
    "    all_data_path = feature_data_path + 'all_data_all_features.pkl'\n",
    "\n",
    "#1     #         =======\n",
    "    all_data = add_user_feature_click_history(all_data)\n",
    "    all_data = add_user_feature_click_day(all_data)\n",
    "    all_data = add_user_feature_click_hour(all_data)\n",
    "    all_data = add_user_click_stats(all_data)\n",
    "\n",
    "\n",
    "    \n",
    "#2     #         =======\n",
    "    all_data = add_feature_click_stats(all_data)\n",
    "    \n",
    "#3     #         ======= \n",
    "    all_data = add_user_click_rank_day(all_data)\n",
    "    all_data = add_user_click_time_interval_day(all_data)\n",
    "    all_data = add_user_feature_click_rank(all_data)\n",
    "    all_data = add_user_feature_click_rank_day(all_data)\n",
    "    \n",
    "#4\n",
    "    all_data = add_category_predict_rank(all_data)\n",
    "    \n",
    "#5     #         =======\n",
    "#    all_data = add_features_ctr(all_data, 0)\n",
    "    all_data = add_features_smooth_ctr(all_data)\n",
    "    \n",
    "#6     #         =======\n",
    "    all_data = add_TfidfTransformer(all_data)\n",
    "\n",
    "#7     #         =======    \n",
    "    all_data = add_feature_click_day(all_data)\n",
    "    all_data = add_feature_click_hour(all_data)\n",
    "    all_data = add_feature_click_history(all_data)\n",
    "    \n",
    "    type_convert = ['item_id', 'item_brand_id', 'item_city_id', 'user_id', 'context_page_id', 'shop_id', 'category2_label']\n",
    "    all_data[type_convert] = all_data[type_convert].astype(np.int64)\n",
    "\n",
    "    dump_pickle(all_data, all_data_path)\n",
    "\n",
    "    return all_data"
   ]
  },
  {
   "cell_type": "code",
   "execution_count": 10,
   "metadata": {},
   "outputs": [
    {
     "name": "stderr",
     "output_type": "stream",
     "text": [
      "100%|██████████| 6/6 [00:11<00:00,  1.92s/it]\n",
      "100%|██████████| 6/6 [00:07<00:00,  1.27s/it]\n",
      "100%|██████████| 6/6 [00:06<00:00,  1.08s/it]\n",
      "100%|██████████| 6/6 [00:09<00:00,  1.58s/it]\n",
      "100%|██████████| 6/6 [00:01<00:00,  5.18it/s]\n",
      "100%|██████████| 4/4 [00:35<00:00,  8.91s/it]\n",
      "100%|██████████| 3/3 [01:34<00:00, 30.96s/it]\n",
      "100%|██████████| 9/9 [01:23<00:00,  8.06s/it]\n",
      "100%|██████████| 9/9 [01:22<00:00,  7.81s/it]\n",
      "100%|██████████| 9/9 [01:22<00:00,  7.93s/it]\n"
     ]
    },
    {
     "name": "stdout",
     "output_type": "stream",
     "text": [
      "Index(['instance_id', 'item_id', 'item_brand_id', 'item_city_id',\n",
      "       'item_price_level', 'item_sales_level', 'item_collected_level',\n",
      "       'item_pv_level', 'user_id', 'user_gender_id',\n",
      "       ...\n",
      "       'category2_label_click_hour', 'user_id_click_history',\n",
      "       'item_id_click_history', 'item_brand_id_click_history',\n",
      "       'shop_id_click_history', 'user_gender_id_click_history',\n",
      "       'context_page_id_click_history', 'user_occupation_id_click_history',\n",
      "       'user_age_level_click_history', 'category2_label_click_history'],\n",
      "      dtype='object', length=264)\n"
     ]
    }
   ],
   "source": [
    "if __name__ == '__main__':\n",
    "    all_data = gen_all_data_all_features()\n",
    "    print(all_data.columns)"
   ]
  },
  {
   "cell_type": "code",
   "execution_count": null,
   "metadata": {
    "collapsed": true
   },
   "outputs": [],
   "source": []
  }
 ],
 "metadata": {
  "kernelspec": {
   "display_name": "Python 3",
   "language": "python",
   "name": "python3"
  },
  "language_info": {
   "codemirror_mode": {
    "name": "ipython",
    "version": 3
   },
   "file_extension": ".py",
   "mimetype": "text/x-python",
   "name": "python",
   "nbconvert_exporter": "python",
   "pygments_lexer": "ipython3",
   "version": "3.6.2"
  }
 },
 "nbformat": 4,
 "nbformat_minor": 2
}
