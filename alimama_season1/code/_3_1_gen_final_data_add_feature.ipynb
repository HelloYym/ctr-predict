{
 "cells": [
  {
   "cell_type": "markdown",
   "metadata": {},
   "source": [
    "## 在final_data基础上补充额外的feature，避免每次修改需要重新生成全部特征"
   ]
  },
  {
   "cell_type": "code",
   "execution_count": 1,
   "metadata": {
    "collapsed": true
   },
   "outputs": [],
   "source": [
    "import os\n",
    "import zipfile\n",
    "import time\n",
    "import pickle\n",
    "import gc\n",
    "\n",
    "import pandas as pd\n",
    "import numpy as np\n",
    "from tqdm import tqdm\n",
    "\n",
    "from _2_1_gen_user_click_features import add_user_feature_click_hour, add_user_feature_click_day, add_user_click_stats\n",
    "from _2_2_gen_statistics_features import add_feature_click_stats\n",
    "from _2_3_gen_tricks import add_user_click_rank_day, add_user_click_time_interval_day, add_user_feature_click_rank\n",
    "from _2_4_gen_predict_category_property import add_category_predict_rank, add_property_sim\n",
    "from _2_5_ctr_smooth import add_features_smooth_ctr\n",
    "from _2_6_gen_CountVector import add_feature_user_property\n",
    "from _2_7_gen_click_num import add_feature_click_hour, add_feature_click_day, add_feature_click_history\n",
    "from _2_8_gen_user_pre_click import add_user_feature_pre_click\n",
    "\n",
    "from utils import load_pickle, dump_pickle, get_feature_value, feature_spearmanr, feature_target_spearmanr, addCrossFeature, calibration\n",
    "from utils import raw_data_path, feature_data_path, cache_pkl_path, analyse"
   ]
  },
  {
   "cell_type": "code",
   "execution_count": 8,
   "metadata": {
    "collapsed": true
   },
   "outputs": [],
   "source": [
    "def final_data_add_features():\n",
    "\n",
    "#     all_data_path = feature_data_path + 'all_data_all_features_until_24.pkl'\n",
    "#     all_data = load_pickle(all_data_path)\n",
    "\n",
    "    all_data = load_pickle('../all_data_all_features_origin.pkl')\n",
    "    \n",
    "    all_data = add_user_feature_pre_click(all_data)\n",
    "    \n",
    "    type_convert = ['item_id', 'item_brand_id', 'item_city_id', 'user_id', 'context_page_id', 'shop_id', 'category2_label', 'item_sales_level', 'item_price_level']\n",
    "\n",
    "    all_data[type_convert] = all_data[type_convert].astype(np.int64)\n",
    "\n",
    "#     dump_pickle(all_data, all_data_path)\n",
    "\n",
    "    dump_pickle(all_data, feature_data_path + 'all_data_all_features_until_25.pkl')\n",
    "\n",
    "\n",
    "    return all_data"
   ]
  },
  {
   "cell_type": "code",
   "execution_count": 9,
   "metadata": {},
   "outputs": [
    {
     "name": "stderr",
     "output_type": "stream",
     "text": [
      "100%|██████████| 4/4 [00:02<00:00,  1.45it/s]\n"
     ]
    },
    {
     "name": "stdout",
     "output_type": "stream",
     "text": [
      "Index(['instance_id', 'item_id', 'item_brand_id', 'item_city_id',\n",
      "       'item_price_level', 'item_sales_level', 'item_collected_level',\n",
      "       'item_pv_level', 'user_id', 'user_gender_id',\n",
      "       ...\n",
      "       'shop_review_num_level_click_hour_y', 'shop_star_level_click_hour_y',\n",
      "       'user_item_id_pre_click', 'user_item_id_continue_click',\n",
      "       'user_item_brand_id_pre_click', 'user_item_brand_id_continue_click',\n",
      "       'user_shop_id_pre_click', 'user_shop_id_continue_click',\n",
      "       'user_category2_label_pre_click',\n",
      "       'user_category2_label_continue_click'],\n",
      "      dtype='object', length=466)\n"
     ]
    }
   ],
   "source": [
    "if __name__ == '__main__':\n",
    "    all_data = final_data_add_features()\n",
    "    print(all_data.columns)"
   ]
  },
  {
   "cell_type": "code",
   "execution_count": null,
   "metadata": {
    "collapsed": true
   },
   "outputs": [],
   "source": []
  }
 ],
 "metadata": {
  "kernelspec": {
   "display_name": "Python 3",
   "language": "python",
   "name": "python3"
  },
  "language_info": {
   "codemirror_mode": {
    "name": "ipython",
    "version": 3
   },
   "file_extension": ".py",
   "mimetype": "text/x-python",
   "name": "python",
   "nbconvert_exporter": "python",
   "pygments_lexer": "ipython3",
   "version": "3.6.2"
  }
 },
 "nbformat": 4,
 "nbformat_minor": 2
}
