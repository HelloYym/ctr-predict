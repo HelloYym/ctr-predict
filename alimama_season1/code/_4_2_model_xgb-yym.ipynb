{
 "cells": [
  {
   "cell_type": "code",
   "execution_count": 26,
   "metadata": {
    "collapsed": true
   },
   "outputs": [],
   "source": [
    "import os\n",
    "import zipfile\n",
    "import time\n",
    "import pickle\n",
    "import gc\n",
    "\n",
    "import pandas as pd\n",
    "import numpy as np\n",
    "from tqdm import tqdm\n",
    "\n",
    "from utils import load_pickle, dump_pickle, get_feature_value, feature_spearmanr, feature_target_spearmanr, addCrossFeature, calibration\n",
    "from utils import raw_data_path, feature_data_path, cache_pkl_path, analyse"
   ]
  },
  {
   "cell_type": "code",
   "execution_count": 27,
   "metadata": {},
   "outputs": [
    {
     "data": {
      "text/plain": [
       "230"
      ]
     },
     "execution_count": 27,
     "metadata": {},
     "output_type": "execute_result"
    }
   ],
   "source": [
    "all_data_path = feature_data_path + 'all_data_all_features.pkl'\n",
    "all_data = load_pickle(all_data_path)\n",
    "\n",
    "target = 'is_trade'\n",
    "\n",
    "features = load_pickle(feature_data_path + 'features_0418_fewer.pkl')\n",
    "len(features)"
   ]
  },
  {
   "cell_type": "code",
   "execution_count": 28,
   "metadata": {},
   "outputs": [
    {
     "name": "stdout",
     "output_type": "stream",
     "text": [
      "[0]\tvalidation_0-logloss:0.647791\n",
      "Will train until validation_0-logloss hasn't improved in 50 rounds.\n",
      "[5]\tvalidation_0-logloss:0.475859\n",
      "[10]\tvalidation_0-logloss:0.362696\n",
      "[15]\tvalidation_0-logloss:0.284607\n",
      "[20]\tvalidation_0-logloss:0.229173\n",
      "[25]\tvalidation_0-logloss:0.189121\n",
      "[30]\tvalidation_0-logloss:0.159827\n",
      "[35]\tvalidation_0-logloss:0.138373\n",
      "[40]\tvalidation_0-logloss:0.122551\n",
      "[45]\tvalidation_0-logloss:0.1109\n",
      "[50]\tvalidation_0-logloss:0.102389\n",
      "[55]\tvalidation_0-logloss:0.096144\n",
      "[60]\tvalidation_0-logloss:0.091619\n",
      "[65]\tvalidation_0-logloss:0.088332\n",
      "[70]\tvalidation_0-logloss:0.08596\n",
      "[75]\tvalidation_0-logloss:0.08424\n",
      "[80]\tvalidation_0-logloss:0.083001\n",
      "[85]\tvalidation_0-logloss:0.082107\n",
      "[90]\tvalidation_0-logloss:0.081426\n",
      "[95]\tvalidation_0-logloss:0.08091\n",
      "[100]\tvalidation_0-logloss:0.080546\n",
      "[105]\tvalidation_0-logloss:0.080252\n",
      "[110]\tvalidation_0-logloss:0.079998\n",
      "[115]\tvalidation_0-logloss:0.079791\n",
      "[120]\tvalidation_0-logloss:0.07963\n",
      "[125]\tvalidation_0-logloss:0.079512\n",
      "[130]\tvalidation_0-logloss:0.079393\n",
      "[135]\tvalidation_0-logloss:0.079284\n",
      "[140]\tvalidation_0-logloss:0.079213\n",
      "[145]\tvalidation_0-logloss:0.079143\n",
      "[150]\tvalidation_0-logloss:0.079078\n",
      "[155]\tvalidation_0-logloss:0.079022\n",
      "[160]\tvalidation_0-logloss:0.078963\n",
      "[165]\tvalidation_0-logloss:0.078911\n",
      "[170]\tvalidation_0-logloss:0.07886\n",
      "[175]\tvalidation_0-logloss:0.078797\n",
      "[180]\tvalidation_0-logloss:0.078759\n",
      "[185]\tvalidation_0-logloss:0.078726\n",
      "[190]\tvalidation_0-logloss:0.078697\n",
      "[195]\tvalidation_0-logloss:0.078656\n",
      "[200]\tvalidation_0-logloss:0.078637\n",
      "[205]\tvalidation_0-logloss:0.078606\n",
      "[210]\tvalidation_0-logloss:0.078609\n",
      "[215]\tvalidation_0-logloss:0.078569\n",
      "[220]\tvalidation_0-logloss:0.078548\n",
      "[225]\tvalidation_0-logloss:0.078524\n",
      "[230]\tvalidation_0-logloss:0.078507\n",
      "[235]\tvalidation_0-logloss:0.078503\n",
      "[240]\tvalidation_0-logloss:0.078494\n",
      "[245]\tvalidation_0-logloss:0.078472\n",
      "[250]\tvalidation_0-logloss:0.07845\n",
      "[255]\tvalidation_0-logloss:0.078433\n",
      "[260]\tvalidation_0-logloss:0.078404\n",
      "[265]\tvalidation_0-logloss:0.078379\n",
      "[270]\tvalidation_0-logloss:0.078364\n",
      "[275]\tvalidation_0-logloss:0.078339\n",
      "[280]\tvalidation_0-logloss:0.078328\n",
      "[285]\tvalidation_0-logloss:0.078331\n",
      "[290]\tvalidation_0-logloss:0.078322\n",
      "[295]\tvalidation_0-logloss:0.078309\n",
      "[300]\tvalidation_0-logloss:0.078314\n",
      "[305]\tvalidation_0-logloss:0.078304\n",
      "[310]\tvalidation_0-logloss:0.078303\n",
      "[315]\tvalidation_0-logloss:0.078284\n",
      "[320]\tvalidation_0-logloss:0.078275\n",
      "[325]\tvalidation_0-logloss:0.07827\n",
      "[330]\tvalidation_0-logloss:0.078251\n",
      "[335]\tvalidation_0-logloss:0.078247\n",
      "[340]\tvalidation_0-logloss:0.078233\n",
      "[345]\tvalidation_0-logloss:0.078237\n",
      "[350]\tvalidation_0-logloss:0.078234\n",
      "[355]\tvalidation_0-logloss:0.078221\n",
      "[360]\tvalidation_0-logloss:0.078221\n",
      "[365]\tvalidation_0-logloss:0.07822\n",
      "[370]\tvalidation_0-logloss:0.078214\n",
      "[375]\tvalidation_0-logloss:0.078216\n",
      "[380]\tvalidation_0-logloss:0.078218\n",
      "[385]\tvalidation_0-logloss:0.078228\n",
      "[390]\tvalidation_0-logloss:0.078235\n",
      "[395]\tvalidation_0-logloss:0.078245\n",
      "[400]\tvalidation_0-logloss:0.078243\n",
      "[405]\tvalidation_0-logloss:0.078236\n",
      "[410]\tvalidation_0-logloss:0.07823\n",
      "[415]\tvalidation_0-logloss:0.078223\n",
      "[420]\tvalidation_0-logloss:0.078203\n",
      "[425]\tvalidation_0-logloss:0.078201\n",
      "[430]\tvalidation_0-logloss:0.078201\n",
      "[435]\tvalidation_0-logloss:0.078214\n",
      "[440]\tvalidation_0-logloss:0.078218\n",
      "[445]\tvalidation_0-logloss:0.078217\n",
      "[450]\tvalidation_0-logloss:0.07822\n",
      "[455]\tvalidation_0-logloss:0.078224\n",
      "[460]\tvalidation_0-logloss:0.078233\n",
      "[465]\tvalidation_0-logloss:0.078231\n",
      "[470]\tvalidation_0-logloss:0.078227\n",
      "Stopping. Best iteration:\n",
      "[421]\tvalidation_0-logloss:0.078199\n",
      "\n"
     ]
    },
    {
     "data": {
      "text/plain": [
       "(0.081850016589568336, 0.078226394381656503)"
      ]
     },
     "execution_count": 28,
     "metadata": {},
     "output_type": "execute_result"
    }
   ],
   "source": [
    "from sklearn.metrics import log_loss\n",
    "import xgboost as xgb\n",
    "\n",
    "train_data = all_data[(all_data.day >= 19) & (all_data.day <= 23)]\n",
    "test_data = all_data[all_data.day == 24]\n",
    "\n",
    "xgb_clf = xgb.XGBClassifier(objective='binary:logistic',\n",
    "\n",
    "                             n_estimators=1000,\n",
    "                             learning_rate=0.05,\n",
    "\n",
    "                             max_depth=3,\n",
    "                             min_child_weight=1e-3,\n",
    "                             gamma=0,\n",
    "\n",
    "                             colsample_bytree=0.8,\n",
    "                             subsample=0.7,\n",
    "\n",
    "                             reg_lambda=10,\n",
    "                             min_split_gain=0.,\n",
    "                             \n",
    "                             max_bin=63,\n",
    "\n",
    "                             n_jobs=6,\n",
    "                             silent=False,\n",
    "                             )\n",
    "\n",
    "\n",
    "xgb_clf.fit(train_data[features], train_data[target],\n",
    "            eval_set=[(test_data[features], test_data[target])],\n",
    "            early_stopping_rounds=50,\n",
    "            eval_metric='logloss',\n",
    "            verbose=5,\n",
    "            )\n",
    "\n",
    "loss_train = log_loss(train_data[target], xgb_clf.predict_proba(train_data[features]))\n",
    "loss_test = log_loss(test_data[target], xgb_clf.predict_proba(test_data[features]))\n",
    "\n",
    "loss_train, loss_test"
   ]
  },
  {
   "cell_type": "code",
   "execution_count": null,
   "metadata": {
    "collapsed": true
   },
   "outputs": [],
   "source": []
  }
 ],
 "metadata": {
  "kernelspec": {
   "display_name": "Python 3",
   "language": "python",
   "name": "python3"
  },
  "language_info": {
   "codemirror_mode": {
    "name": "ipython",
    "version": 3
   },
   "file_extension": ".py",
   "mimetype": "text/x-python",
   "name": "python",
   "nbconvert_exporter": "python",
   "pygments_lexer": "ipython3",
   "version": "3.6.2"
  }
 },
 "nbformat": 4,
 "nbformat_minor": 2
}
