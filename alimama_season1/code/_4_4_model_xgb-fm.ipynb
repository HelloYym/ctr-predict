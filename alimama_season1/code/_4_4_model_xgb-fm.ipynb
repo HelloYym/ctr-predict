{
 "cells": [
  {
   "cell_type": "code",
   "execution_count": 17,
   "metadata": {
    "collapsed": true
   },
   "outputs": [],
   "source": [
    "import os\n",
    "import zipfile\n",
    "import time\n",
    "import pickle\n",
    "import gc\n",
    "\n",
    "import pandas as pd\n",
    "import numpy as np\n",
    "from tqdm import tqdm\n",
    "\n",
    "from utils import load_pickle, dump_pickle, get_feature_value, feature_spearmanr, feature_target_spearmanr, addCrossFeature, calibration\n",
    "from utils import raw_data_path, feature_data_path, cache_pkl_path, analyse\n",
    "import utils"
   ]
  },
  {
   "cell_type": "code",
   "execution_count": null,
   "metadata": {},
   "outputs": [],
   "source": [
    "all_data_path = feature_data_path + 'all_data_all_features.pkl'\n",
    "all_data = load_pickle(all_data_path)\n",
    "\n",
    "type_convert = ['item_price_level', 'item_sales_level', 'item_collected_level', 'item_pv_level', 'shop_review_num_level', 'shop_star_level']\n",
    "all_data[type_convert] = all_data[type_convert].astype(np.int64)\n",
    "\n",
    "features = list(all_data.columns)\n",
    "features.remove('is_trade')\n",
    "features.remove('instance_id')\n",
    "target = 'is_trade'\n",
    "\n",
    "features = load_pickle(feature_data_path + 'feature_list.pkl')\n",
    "len(features)"
   ]
  },
  {
   "cell_type": "markdown",
   "metadata": {},
   "source": [
    "## 用18-23号数据训练 xgb"
   ]
  },
  {
   "cell_type": "code",
   "execution_count": 4,
   "metadata": {},
   "outputs": [
    {
     "data": {
      "text/plain": [
       "(0.083681341116011845, 0.079189066746593845)"
      ]
     },
     "execution_count": 4,
     "metadata": {},
     "output_type": "execute_result"
    }
   ],
   "source": [
    "from sklearn.metrics import log_loss\n",
    "import xgboost as xgb\n",
    "\n",
    "train_data = all_data[(all_data.day >= 20) & (all_data.day <= 23)]\n",
    "test_data = all_data[all_data.day == 24]\n",
    "\n",
    "xgb_clf = xgb.XGBClassifier() \n",
    "xgb_clf.fit(train_data[features], train_data[target])\n",
    "\n",
    "loss_train = log_loss(train_data[target], xgb_clf.predict_proba(train_data[features]))\n",
    "loss_test = log_loss(test_data[target], xgb_clf.predict_proba(test_data[features]))\n",
    "\n",
    "loss_train, loss_test"
   ]
  },
  {
   "cell_type": "code",
   "execution_count": 5,
   "metadata": {},
   "outputs": [
    {
     "data": {
      "text/plain": [
       "(496482, 895)"
      ]
     },
     "execution_count": 5,
     "metadata": {},
     "output_type": "execute_result"
    }
   ],
   "source": [
    "xgb_leaves = xgb_clf.apply(all_data[features])\n",
    "\n",
    "xgb_leaves = pd.DataFrame(xgb_leaves).astype(np.int32)\n",
    "\n",
    "# 转换为one-hot\n",
    "xgb_leaves = pd.get_dummies(xgb_leaves, dummy_na=True, columns=xgb_leaves.columns)\n",
    "xgb_leaves.shape"
   ]
  },
  {
   "cell_type": "markdown",
   "metadata": {},
   "source": [
    "## 原始特征与xgb叶节点特征合并"
   ]
  },
  {
   "cell_type": "code",
   "execution_count": 8,
   "metadata": {},
   "outputs": [
    {
     "data": {
      "text/plain": [
       "895"
      ]
     },
     "execution_count": 8,
     "metadata": {},
     "output_type": "execute_result"
    }
   ],
   "source": [
    "nominal_feats = ['user_gender_id', 'user_occupation_id', 'context_page_id']\n",
    "\n",
    "numeric_feats = ['item_price_level', 'item_sales_level', 'item_collected_level', 'item_pv_level', 'user_age_level', 'user_star_level',\n",
    "                 'shop_review_num_level', 'shop_review_positive_rate', 'shop_star_level', 'shop_score_service', 'shop_score_delivery', 'shop_score_description']\n",
    "\n",
    "\n",
    "# xgb叶节点+原始特征\n",
    "# all_data_with_leaves = pd.concat([all_data, xgb_leaves], axis=1)\n",
    "\n",
    "# 只用xgb叶节点特征\n",
    "# all_data_with_leaves = pd.concat(\n",
    "#     [all_data[['day', 'is_trade', 'instance_id'] + nominal_feats + numeric_feats], xgb_leaves], axis=1)\n",
    "\n",
    "all_data_with_leaves = pd.concat(\n",
    "    [train_data[['day', 'is_trade', 'instance_id']], xgb_leaves], axis=1)\n",
    "\n",
    "# 标称属性转换为one-hot\n",
    "# all_data_with_leaves = pd.get_dummies(\n",
    "#     all_data_with_leaves, dummy_na=True, columns=nominal_feats)\n",
    "\n",
    "features = list(all_data_with_leaves.columns)\n",
    "features.remove('is_trade')\n",
    "features.remove('instance_id')\n",
    "features.remove('day')\n",
    "target = 'is_trade'\n",
    "\n",
    "\n",
    "# 数值特征归一化\n",
    "all_data_with_leaves[features] = all_data_with_leaves[features].apply(\n",
    "    lambda x: (x - x.min()) / (x.max() - x.min()))\n",
    "\n",
    "all_data_with_leaves = all_data_with_leaves.fillna(-1)\n",
    "\n",
    "len(features)"
   ]
  },
  {
   "cell_type": "markdown",
   "metadata": {},
   "source": [
    "## 数据转换为 mxnet.ndarray 格式"
   ]
  },
  {
   "cell_type": "code",
   "execution_count": 11,
   "metadata": {},
   "outputs": [
    {
     "data": {
      "text/plain": [
       "(271505, 895)"
      ]
     },
     "execution_count": 11,
     "metadata": {},
     "output_type": "execute_result"
    }
   ],
   "source": [
    "train_data = all_data_with_leaves[(all_data_with_leaves.day >= 20) & (all_data_with_leaves.day <= 23)]\n",
    "test_data = all_data_with_leaves[all_data_with_leaves.day == 24]\n",
    "\n",
    "from mxnet import ndarray as nd\n",
    "from mxnet import autograd\n",
    "from mxnet import gluon\n",
    "import mxnet as mx\n",
    "\n",
    "X_train = train_data[features].as_matrix()\n",
    "X_test = test_data[features].as_matrix()\n",
    "y_train = train_data[target].astype(np.int).as_matrix()\n",
    "y_test = test_data[target].astype(np.int).as_matrix()\n",
    "\n",
    "X_train = nd.array(X_train)\n",
    "X_test = nd.array(X_test)\n",
    "\n",
    "y_train = nd.array(y_train).reshape((-1, 1))\n",
    "y_test = nd.array(y_test).reshape((-1, 1))\n",
    "\n",
    "X_train.shape"
   ]
  },
  {
   "cell_type": "code",
   "execution_count": null,
   "metadata": {
    "collapsed": true
   },
   "outputs": [],
   "source": []
  }
 ],
 "metadata": {
  "kernelspec": {
   "display_name": "Python 3",
   "language": "python",
   "name": "python3"
  },
  "language_info": {
   "codemirror_mode": {
    "name": "ipython",
    "version": 3
   },
   "file_extension": ".py",
   "mimetype": "text/x-python",
   "name": "python",
   "nbconvert_exporter": "python",
   "pygments_lexer": "ipython3",
   "version": "3.6.2"
  }
 },
 "nbformat": 4,
 "nbformat_minor": 2
}
