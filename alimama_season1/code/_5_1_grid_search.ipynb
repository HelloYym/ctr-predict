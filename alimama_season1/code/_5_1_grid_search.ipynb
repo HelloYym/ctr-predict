{
 "cells": [
  {
   "cell_type": "code",
   "execution_count": 74,
   "metadata": {
    "collapsed": true
   },
   "outputs": [],
   "source": [
    "import os\n",
    "import zipfile\n",
    "import time\n",
    "import pickle\n",
    "import gc\n",
    "\n",
    "import pandas as pd\n",
    "import numpy as np\n",
    "from tqdm import tqdm\n",
    "\n",
    "from utils import load_pickle, dump_pickle, get_feature_value, feature_spearmanr, feature_target_spearmanr, addCrossFeature, calibration\n",
    "from utils import raw_data_path, feature_data_path, cache_pkl_path, analyse"
   ]
  },
  {
   "cell_type": "code",
   "execution_count": 75,
   "metadata": {
    "collapsed": true
   },
   "outputs": [],
   "source": [
    "all_data_path = feature_data_path + 'all_data_all_features.pkl'\n",
    "all_data = load_pickle(all_data_path)\n",
    "\n",
    "train_data = all_data[(all_data.day >= 19) & (all_data.day <= 24)]\n",
    "\n",
    "# train_cv = all_data[(all_data.day >= 19) & (all_data.day <= 24)]\n",
    "# train_cv = train_cv.sort_values(by=['context_timestamp'])\n",
    "target = 'is_trade'"
   ]
  },
  {
   "cell_type": "code",
   "execution_count": 76,
   "metadata": {},
   "outputs": [
    {
     "data": {
      "text/plain": [
       "164"
      ]
     },
     "execution_count": 76,
     "metadata": {},
     "output_type": "execute_result"
    }
   ],
   "source": [
    "features = load_pickle(feature_data_path + 'important_features.pkl')\n",
    "nominal_feats = ['hour',\n",
    "                 'item_sales_level', 'item_price_level', \n",
    "                 'user_star_level', 'user_age_level', 'user_gender_id', 'user_occupation_id', \n",
    "                 'context_page_id', \n",
    "                 'category2_label', 'category_predict_rank',\n",
    "                 'user_item_city_id_click_rank',\n",
    "                 'user_item_id_click_rank',\n",
    "                 'user_item_brand_id_click_rank',\n",
    "                 'user_item_city_id_click_rank',\n",
    "                 'user_shop_id_click_rank',\n",
    "                 'user_context_page_id_click_rank',\n",
    "                 'user_category2_label_click_rank',\n",
    "                 'user_item_sales_level_click_rank',\n",
    "                 'user_item_price_level_click_rank',\n",
    "                ]\n",
    "\n",
    "features = list(set(features + nominal_feats))\n",
    "\n",
    "len(features)"
   ]
  },
  {
   "cell_type": "code",
   "execution_count": 71,
   "metadata": {},
   "outputs": [
    {
     "name": "stdout",
     "output_type": "stream",
     "text": [
      "Fitting 1 folds for each of 1 candidates, totalling 1 fits\n"
     ]
    },
    {
     "name": "stderr",
     "output_type": "stream",
     "text": [
      "/home/user02/miniconda3/envs/gluon/lib/python3.6/site-packages/lightgbm/basic.py:1038: UserWarning: categorical_feature in Dataset is overrided. New categorical_feature is ['category2_label', 'category_predict_rank', 'context_page_id', 'hour', 'item_price_level', 'item_sales_level', 'user_age_level', 'user_category2_label_click_rank', 'user_context_page_id_click_rank', 'user_gender_id', 'user_item_brand_id_click_rank', 'user_item_city_id_click_rank', 'user_item_city_id_click_rank', 'user_item_id_click_rank', 'user_item_price_level_click_rank', 'user_item_sales_level_click_rank', 'user_occupation_id', 'user_shop_id_click_rank', 'user_star_level']\n",
      "  warnings.warn('categorical_feature in Dataset is overrided. New categorical_feature is {}'.format(sorted(list(categorical_feature))))\n",
      "[Parallel(n_jobs=-1)]: Done   1 out of   1 | elapsed:    7.7s finished\n",
      "/home/user02/miniconda3/envs/gluon/lib/python3.6/site-packages/lightgbm/basic.py:1038: UserWarning: categorical_feature in Dataset is overrided. New categorical_feature is ['category2_label', 'category_predict_rank', 'context_page_id', 'hour', 'item_price_level', 'item_sales_level', 'user_age_level', 'user_category2_label_click_rank', 'user_context_page_id_click_rank', 'user_gender_id', 'user_item_brand_id_click_rank', 'user_item_city_id_click_rank', 'user_item_city_id_click_rank', 'user_item_id_click_rank', 'user_item_price_level_click_rank', 'user_item_sales_level_click_rank', 'user_occupation_id', 'user_shop_id_click_rank', 'user_star_level']\n",
      "  warnings.warn('categorical_feature in Dataset is overrided. New categorical_feature is {}'.format(sorted(list(categorical_feature))))\n"
     ]
    },
    {
     "name": "stdout",
     "output_type": "stream",
     "text": [
      "=====\n",
      "Best parameters set found on development set:\n",
      "{'colsample_bytree': 0.8, 'learning_rate': 0.05, 'max_depth': 3, 'n_estimators': 100, 'num_leaves': 31, 'subsample': 0.8, 'subsample_freq': 5}\n",
      "=====\n",
      "Best parameters set found on development set:\n",
      "-0.0809896066363\n"
     ]
    },
    {
     "data": {
      "text/html": [
       "<div>\n",
       "<style>\n",
       "    .dataframe thead tr:only-child th {\n",
       "        text-align: right;\n",
       "    }\n",
       "\n",
       "    .dataframe thead th {\n",
       "        text-align: left;\n",
       "    }\n",
       "\n",
       "    .dataframe tbody tr th {\n",
       "        vertical-align: top;\n",
       "    }\n",
       "</style>\n",
       "<table border=\"1\" class=\"dataframe\">\n",
       "  <thead>\n",
       "    <tr style=\"text-align: right;\">\n",
       "      <th></th>\n",
       "      <th>mean_fit_time</th>\n",
       "      <th>mean_score_time</th>\n",
       "      <th>mean_test_score</th>\n",
       "      <th>param_colsample_bytree</th>\n",
       "      <th>param_learning_rate</th>\n",
       "      <th>param_max_depth</th>\n",
       "      <th>param_n_estimators</th>\n",
       "      <th>param_num_leaves</th>\n",
       "      <th>param_subsample</th>\n",
       "      <th>param_subsample_freq</th>\n",
       "      <th>params</th>\n",
       "      <th>rank_test_score</th>\n",
       "      <th>split0_test_score</th>\n",
       "      <th>std_fit_time</th>\n",
       "      <th>std_score_time</th>\n",
       "      <th>std_test_score</th>\n",
       "    </tr>\n",
       "  </thead>\n",
       "  <tbody>\n",
       "    <tr>\n",
       "      <th>0</th>\n",
       "      <td>5.9185</td>\n",
       "      <td>0.388915</td>\n",
       "      <td>-0.08099</td>\n",
       "      <td>0.8</td>\n",
       "      <td>0.05</td>\n",
       "      <td>3</td>\n",
       "      <td>100</td>\n",
       "      <td>31</td>\n",
       "      <td>0.8</td>\n",
       "      <td>5</td>\n",
       "      <td>{'colsample_bytree': 0.8, 'learning_rate': 0.0...</td>\n",
       "      <td>1</td>\n",
       "      <td>-0.08099</td>\n",
       "      <td>0.0</td>\n",
       "      <td>0.0</td>\n",
       "      <td>0.0</td>\n",
       "    </tr>\n",
       "  </tbody>\n",
       "</table>\n",
       "</div>"
      ],
      "text/plain": [
       "   mean_fit_time  mean_score_time  mean_test_score param_colsample_bytree  \\\n",
       "0         5.9185         0.388915         -0.08099                    0.8   \n",
       "\n",
       "  param_learning_rate param_max_depth param_n_estimators param_num_leaves  \\\n",
       "0                0.05               3                100               31   \n",
       "\n",
       "  param_subsample param_subsample_freq  \\\n",
       "0             0.8                    5   \n",
       "\n",
       "                                              params  rank_test_score  \\\n",
       "0  {'colsample_bytree': 0.8, 'learning_rate': 0.0...                1   \n",
       "\n",
       "   split0_test_score  std_fit_time  std_score_time  std_test_score  \n",
       "0           -0.08099           0.0             0.0             0.0  "
      ]
     },
     "execution_count": 71,
     "metadata": {},
     "output_type": "execute_result"
    }
   ],
   "source": [
    "from sklearn.metrics import log_loss\n",
    "import lightgbm as lgb\n",
    "\n",
    "from sklearn.model_selection import GridSearchCV\n",
    "from sklearn.model_selection import TimeSeriesSplit\n",
    "\n",
    "train_data = train_data.reset_index()\n",
    "train_data_index = train_data[(train_data.day >= 19) & (train_data.day <= 23)].index\n",
    "val_data_index = train_data[train_data.day == 24].index\n",
    "\n",
    "lgb_clf = lgb.LGBMClassifier(objective='binary', n_jobs=-1, silent=False)\n",
    "\n",
    "# 参数的组合\n",
    "lgb_param_grad = {'n_estimators': (100,), 'learning_rate': (0.05,), 'max_depth': (\n",
    "    3, ), 'num_leaves': (31, ), 'subsample': (0.8,), 'colsample_bytree': (0.8,), 'subsample_freq': (5,)}\n",
    "\n",
    "clf = GridSearchCV(lgb_clf, param_grid=lgb_param_grad, scoring='neg_log_loss',\n",
    "                   cv=((train_data_index, val_data_index),), n_jobs=-1, verbose=1, return_train_score=False)\n",
    "\n",
    "\n",
    "fit_params = {'feature_name': features, 'categorical_feature': nominal_feats}\n",
    "\n",
    "clf.fit(train_data[features], train_data[target], feature_name=features, categorical_feature=nominal_feats)\n",
    "\n",
    "\n",
    "print('=====')\n",
    "print(\"Best parameters set found on development set:\")\n",
    "print(clf.best_params_)\n",
    "\n",
    "print('=====')\n",
    "print(\"Best parameters set found on development set:\")\n",
    "print(clf.best_score_)\n",
    "\n",
    "pd.DataFrame(data=clf.cv_results_)"
   ]
  },
  {
   "cell_type": "code",
   "execution_count": 73,
   "metadata": {},
   "outputs": [
    {
     "data": {
      "text/plain": [
       "(0.087086087998509573, 0.080475598487123934)"
      ]
     },
     "execution_count": 73,
     "metadata": {},
     "output_type": "execute_result"
    }
   ],
   "source": [
    "train_data = all_data[(all_data.day >= 19) & (all_data.day <= 23)]\n",
    "test_data = all_data[all_data.day == 24]\n",
    "\n",
    "loss_train = log_loss(train_data[target], clf.predict_proba(train_data[features]))\n",
    "loss_test = log_loss(test_data[target], clf.predict_proba(test_data[features]))\n",
    "\n",
    "loss_train, loss_test"
   ]
  },
  {
   "cell_type": "code",
   "execution_count": null,
   "metadata": {
    "collapsed": true
   },
   "outputs": [],
   "source": []
  }
 ],
 "metadata": {
  "kernelspec": {
   "display_name": "Python 3",
   "language": "python",
   "name": "python3"
  },
  "language_info": {
   "codemirror_mode": {
    "name": "ipython",
    "version": 3
   },
   "file_extension": ".py",
   "mimetype": "text/x-python",
   "name": "python",
   "nbconvert_exporter": "python",
   "pygments_lexer": "ipython3",
   "version": "3.6.2"
  }
 },
 "nbformat": 4,
 "nbformat_minor": 2
}
