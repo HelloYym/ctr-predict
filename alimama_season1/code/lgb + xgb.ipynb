{
 "cells": [
  {
   "cell_type": "code",
   "execution_count": null,
   "metadata": {
    "collapsed": true
   },
   "outputs": [],
   "source": [
    "# from sklearn.metrics import log_loss\n",
    "lgb_predict_a = lgb_clf.predict_proba(test_data[features])[:, 1]\n",
    "# lgb_predict_b = lgb_clf_b.predict_proba(test_data[features])[:, 1]\n",
    "xgb_predict = xgb_a.predict(dtest)\n",
    "\n",
    "# result = lgb_predict * 0.5 + xgb_predict * 0.5\n",
    "\n",
    "avg_predict = lgb_predict_a * 0.5 + xgb_predict * 0.5\n",
    "\n",
    "loss_test = log_loss(test_data[target], avg_predict)\n",
    "loss_test\n"
   ]
  },
  {
   "cell_type": "code",
   "execution_count": null,
   "metadata": {
    "collapsed": true
   },
   "outputs": [],
   "source": [
    "train_data = all_data[(all_data.day >= 18) & (all_data.day <= 24)]\n",
    "test_data = all_data[all_data.day == 25]\n",
    "\n",
    "dtrain = xgb.DMatrix(train_data[features], train_data[target])\n",
    "dtest = xgb.DMatrix(test_data[features], test_data[target])\n",
    "\n",
    "watchlist = [(dtrain, 'train')]\n",
    "\n",
    "params = {\n",
    "    'n_estimators': 100,\n",
    "    'max_depth': 3,\n",
    "    'eta': 0.1,\n",
    "    'eval_metric': 'logloss',\n",
    "    'objective': 'binary:logistic',\n",
    "    'subsample': 1.0,\n",
    "    'colsample_bytree': 0.7,\n",
    "#     'random_state': 1123,\n",
    "#     'min_child_weight': 10\n",
    "    #'scale_pos_weight':0.5\n",
    "}\n",
    "\n",
    "xgb_a = xgb.train(params, dtrain,\n",
    "                  num_boost_round=250,\n",
    "                  early_stopping_rounds=20,\n",
    "                  evals=watchlist,\n",
    "                  verbose_eval=10)\n",
    "\n",
    "\n",
    "lgb_a = LGBMClassifier(n_estimators=200, max_depth=3, \n",
    "#                         num_leaves=50, \n",
    "#                        learning_rate=0.1, \n",
    "#                        seed=0, nthread=24, subsample=0.8, colsample_bytree=0.9, reg_lambda=0.005, \n",
    "                      )\n",
    "\n",
    "cate_features = ['user_gender_id', 'user_occupation_id']\n",
    "\n",
    "lgb_a.fit(train_data[features], train_data['is_trade'],\n",
    "          #         eval_set=[(train_x.loc[train_x.clickDay>25,feature_group_A],train_x.loc[train_x.clickDay>25,['label']])],\n",
    "          feature_name=features,\n",
    "          categorical_feature=cate_features,\n",
    "          verbose=50,\n",
    "          )\n",
    "\n",
    "lgb_predict_a = lgb_a.predict_proba(test_data[features])[:, 1]\n",
    "xgb_predict_a = xgb_a.predict(dtest)\n",
    "\n",
    "avg_predict = lgb_predict_a * 0.5 + xgb_predict_a * 0.5\n",
    "\n",
    "test_data['predicted_score'] = avg_predict\n",
    "\n",
    "test_data[['instance_id', 'predicted_score']].to_csv(\n",
    "    '../submission/20180403.txt', index=False, sep=' ')\n",
    "\n",
    "\n",
    "lgb_predict_a = lgb_a.predict_proba(train_data[features])[:, 1]\n",
    "xgb_predict_a = xgb_a.predict(dtrain)\n",
    "\n",
    "avg_predict = lgb_predict_a * 0.5 + xgb_predict_a * 0.5\n",
    "\n",
    "loss_train = log_loss(train_data[target], avg_predict)\n",
    "\n",
    "loss_train\n"
   ]
  },
  {
   "cell_type": "code",
   "execution_count": null,
   "metadata": {
    "collapsed": true
   },
   "outputs": [],
   "source": [
    "lgb_predict_a = lgb_a.predict_proba(train_data[features])[:, 1]\n",
    "xgb_predict_a = xgb_a.predict(dtrain)\n",
    "\n",
    "avg_predict = lgb_predict_a * 0.5 + xgb_predict_a * 0.5\n",
    "\n",
    "loss_train = log_loss(train_data[target], lgb_predict_a)\n",
    "\n",
    "loss_train"
   ]
  }
 ],
 "metadata": {
  "kernelspec": {
   "display_name": "Python 3",
   "language": "python",
   "name": "python3"
  },
  "language_info": {
   "codemirror_mode": {
    "name": "ipython",
    "version": 3
   },
   "file_extension": ".py",
   "mimetype": "text/x-python",
   "name": "python",
   "nbconvert_exporter": "python",
   "pygments_lexer": "ipython3",
   "version": "3.6.2"
  }
 },
 "nbformat": 4,
 "nbformat_minor": 2
}
