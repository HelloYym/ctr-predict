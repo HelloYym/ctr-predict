{
 "cells": [
  {
   "cell_type": "markdown",
   "metadata": {},
   "source": [
    "# 时间转换公式，转换为%Y-%m-%d %H:%M:%S"
   ]
  },
  {
   "cell_type": "code",
   "execution_count": 12,
   "metadata": {
    "collapsed": true
   },
   "outputs": [],
   "source": [
    "import time\n",
    "import pandas as pd\n",
    "import numpy as np\n",
    "\n",
    "def timestamp_datetime(value):\n",
    "    format = '%Y-%m-%d %H:%M:%S'\n",
    "    value = time.localtime(value)\n",
    "    dt = time.strftime(format, value)\n",
    "    return dt"
   ]
  },
  {
   "cell_type": "markdown",
   "metadata": {},
   "source": [
    "# 要选用的特征和目标"
   ]
  },
  {
   "cell_type": "code",
   "execution_count": 13,
   "metadata": {
    "collapsed": true
   },
   "outputs": [],
   "source": [
    "numeric_feats = ['item_price_level', 'item_sales_level', 'item_collected_level', 'item_pv_level', 'user_age_level',\n",
    "                 'user_star_level', 'shop_review_num_level',\n",
    "                 'shop_review_positive_rate', 'shop_star_level', 'shop_score_service', 'shop_score_delivery', 'shop_score_description',\n",
    "                 'hour', 'day',\n",
    "#                  'user_query_day', 'user_query_day_hour',\n",
    "#                  'item_brand_query_day', 'item_brand_query_day_hour',\n",
    "#                  'shop_query_day', 'shop_query_day_hour',\n",
    "#                  'item_query_day', 'item_query_day_hour'\n",
    "                 ]\n",
    "\n",
    "# nominal_feats = ['item_id', 'user_id', 'shop_id', 'item_brand_id', 'item_city_id', 'user_gender_id', 'user_occupation_id', 'context_page_id',\n",
    "#                  'category_0', 'category_1',\n",
    "#                  'category_2', 'property_0', 'property_1', 'property_2',\n",
    "#                  'predict_category_0', 'predict_category_1', 'predict_category_2']\n",
    "\n",
    "nominal_feats = ['item_id', 'user_id', 'shop_id', 'item_brand_id', 'item_city_id', 'user_gender_id', 'user_occupation_id', 'context_page_id']\n",
    "\n",
    "\n",
    "# nominal_feats = ['user_gender_id', 'user_occupation_id', 'context_page_id']\n",
    "\n",
    "features = numeric_feats + nominal_feats\n",
    "\n",
    "target = 'is_trade'"
   ]
  },
  {
   "cell_type": "markdown",
   "metadata": {},
   "source": [
    "# 数据转换函数\n",
    "添加分号的属性列表\n",
    "根据最近邻填充空值"
   ]
  },
  {
   "cell_type": "code",
   "execution_count": 14,
   "metadata": {
    "collapsed": true
   },
   "outputs": [],
   "source": [
    "def extract_date(data):\n",
    "    data['time'] = data.context_timestamp.apply(timestamp_datetime)\n",
    "    data['day'] = data.time.apply(lambda x: int(x[8:10]))\n",
    "    data['hour'] = data.time.apply(lambda x: int(x[11:13]))\n",
    "    del data['time']\n",
    "    return data\n",
    "\n",
    "\n",
    "def extract_manual_features(data, sample_weight=1.0):\n",
    "    user_query_day = data.groupby(['user_id', 'day']).size(\n",
    "    ).reset_index().rename(columns={0: 'user_query_day'})\n",
    "    data = pd.merge(data, user_query_day, how='left',\n",
    "                    on=['user_id', 'day'])\n",
    "\n",
    "    user_query_day_hour = data.groupby(['user_id', 'day', 'hour']).size(\n",
    "    ).reset_index().rename(columns={0: 'user_query_day_hour'})\n",
    "    data = pd.merge(data, user_query_day_hour, how='left',\n",
    "                    on=['user_id', 'day', 'hour'])\n",
    "\n",
    "    item_brand_query_day = data.groupby(['item_brand_id', 'day']).size(\n",
    "    ).reset_index().rename(columns={0: 'item_brand_query_day'})\n",
    "    data = pd.merge(data, item_brand_query_day, how='left',\n",
    "                    on=['item_brand_id', 'day'])\n",
    "\n",
    "    item_brand_query_day_hour = data.groupby(['item_brand_id', 'day', 'hour']).size(\n",
    "    ).reset_index().rename(columns={0: 'item_brand_query_day_hour'})\n",
    "    data = pd.merge(data, item_brand_query_day_hour, how='left',\n",
    "                    on=['item_brand_id', 'day', 'hour'])\n",
    "\n",
    "    item_query_day = data.groupby(['item_id', 'day']).size(\n",
    "    ).reset_index().rename(columns={0: 'item_query_day'})\n",
    "    data = pd.merge(data, item_query_day, how='left', on=['item_id', 'day'])\n",
    "\n",
    "    item_query_day_hour = data.groupby(['item_id', 'day', 'hour']).size(\n",
    "    ).reset_index().rename(columns={0: 'item_query_day_hour'})\n",
    "    data = pd.merge(data, item_query_day_hour, how='left',\n",
    "                    on=['item_id', 'day', 'hour'])\n",
    "\n",
    "    shop_query_day = data.groupby(['shop_id', 'day']).size(\n",
    "    ).reset_index().rename(columns={0: 'shop_query_day'})\n",
    "    data = pd.merge(data, shop_query_day, how='left', on=['shop_id', 'day'])\n",
    "\n",
    "    shop_query_day_hour = data.groupby(['shop_id', 'day', 'hour']).size(\n",
    "    ).reset_index().rename(columns={0: 'shop_query_day_hour'})\n",
    "    data = pd.merge(data, shop_query_day_hour, how='left',\n",
    "                    on=['shop_id', 'day', 'hour'])\n",
    "\n",
    "    feats = [\n",
    "        'user_query_day', 'user_query_day_hour',\n",
    "        'item_brand_query_day', 'item_brand_query_day_hour',\n",
    "        'shop_query_day', 'shop_query_day_hour',\n",
    "        'item_query_day', 'item_query_day_hour']\n",
    "\n",
    "    data[feats] = data[feats] / sample_weight\n",
    "\n",
    "\n",
    "#     print('item_category_list_ing')\n",
    "#     for i in range(3):\n",
    "#         data['category_%d'%(i)] = data['item_category_list'].apply(\n",
    "#             lambda x:x.split(\";\")[i] if len(x.split(\";\")) > i else \" \"\n",
    "#         )\n",
    "#     del data['item_category_list']\n",
    "\n",
    "#     print('item_property_list_ing')\n",
    "#     for i in range(3):\n",
    "#         data['property_%d'%(i)] = data['item_property_list'].apply(\n",
    "#             lambda x:x.split(\";\")[i] if len(x.split(\";\")) > i else \" \"\n",
    "#         )\n",
    "#     del data['item_property_list']\n",
    "\n",
    "#     print('predict_category_property_ing_0')\n",
    "#     for i in range(3):\n",
    "#         data['predict_category_%d'%(i)] = data['predict_category_property'].apply(\n",
    "#             lambda x:str(x.split(\";\")[i]).split(\":\")[0] if len(x.split(\";\")) > i else \" \"\n",
    "#         )\n",
    "\n",
    "#     del data['predict_category_property']\n",
    "\n",
    "#     context_page_id可以考虑设置为标称属性\n",
    "\n",
    "#     data = data.replace(to_replace=[-1], value=np.NaN)\n",
    "#     data[numeric_feats] = data[numeric_feats].fillna(data.mean())\n",
    "#     data[numeric_feats] = data[numeric_feats].apply(lambda x: (x - x.min()) / (x.max() - x.min()))\n",
    "\n",
    "    return data"
   ]
  },
  {
   "cell_type": "markdown",
   "metadata": {},
   "source": [
    "## 利用相似性处理空值"
   ]
  },
  {
   "cell_type": "markdown",
   "metadata": {},
   "source": [
    "# 读取训练样本并转换"
   ]
  },
  {
   "cell_type": "code",
   "execution_count": 18,
   "metadata": {},
   "outputs": [
    {
     "data": {
      "text/plain": [
       "((420693, 29), (57418, 29))"
      ]
     },
     "execution_count": 18,
     "metadata": {},
     "output_type": "execute_result"
    }
   ],
   "source": [
    "df_train = pd.read_csv(\"round1_ijcai_18_train_20180301.txt\", sep=' ')\n",
    "df_test = pd.read_csv(\"round1_ijcai_18_test_a_20180301.txt\", sep=' ')\n",
    "\n",
    "df_train.drop_duplicates(inplace=True)\n",
    "df_train = extract_date(df_train)\n",
    "df_test = extract_date(df_test)\n",
    "\n",
    "# 根据日期，取24号为验证集\n",
    "train_data = df_train.loc[df_train.day < df_train['day'].max()]\n",
    "val_data = df_train.loc[df_train.day == df_train['day'].max()]\n",
    "\n",
    "# 测试集保持与25号相同的采样比例\n",
    "sample_weight = df_test.shape[0] / val_data.shape[0]\n",
    "# val_data = val_data.sample(frac=sample_weight)\n",
    "\n",
    "# 提取人工特征\n",
    "# train_data = extract_manual_features(train_data)\n",
    "# val_data = extract_manual_features(val_data, sample_weight)\n",
    "\n",
    "train_data.shape, val_data.shape"
   ]
  },
  {
   "cell_type": "code",
   "execution_count": 19,
   "metadata": {},
   "outputs": [
    {
     "data": {
      "image/png": "[encoded data removed]",
      "text/plain": [
       "<matplotlib.figure.Figure at 0x7fd6236044e0>"
      ]
     },
     "metadata": {},
     "output_type": "display_data"
    }
   ],
   "source": [
    "import matplotlib as mpl\n",
    "mpl.rcParams['figure.dpi']= 100\n",
    "import matplotlib.pyplot as plt\n",
    "plt.plot(df_test.groupby(['hour']).size(), color='b', label='25')\n",
    "plt.plot(val_data.groupby(['hour']).size(), color='r', label='25')\n",
    "plt.show()"
   ]
  },
  {
   "cell_type": "markdown",
   "metadata": {},
   "source": [
    "# 使用下面两种方法进行测试"
   ]
  },
  {
   "cell_type": "code",
   "execution_count": null,
   "metadata": {},
   "outputs": [],
   "source": [
    "from sklearn.metrics import make_scorer, precision_score, recall_score, accuracy_score, log_loss\n",
    "from sklearn.linear_model import LogisticRegression\n",
    "\n",
    "lr = LogisticRegression(penalty=\"l2\", solver='liblinear',\n",
    "                        max_iter=1000, verbose=1)\n",
    "\n",
    "from sklearn.ensemble import GradientBoostingClassifier\n",
    "gbdt = GradientBoostingClassifier(n_estimators=100, max_features='auto')\n",
    "\n",
    "clf = gbdt\n",
    "clf.fit(train_data[features], train_data[target])\n",
    "\n",
    "loss_train = log_loss(train_data[target], clf.predict_proba(train_data[features]))\n",
    "predicted = clf.predict_proba(val_data[features])\n",
    "loss_val = log_loss(val_data[target], predicted)\n",
    "\n",
    "loss_train, loss_val"
   ]
  },
  {
   "cell_type": "markdown",
   "metadata": {},
   "source": [
    "# 提交测试数据"
   ]
  },
  {
   "cell_type": "code",
   "execution_count": 33,
   "metadata": {
    "collapsed": true
   },
   "outputs": [],
   "source": [
    "df_train = pd.read_csv(\"../data/round1_ijcai_18_train_20180301.txt\", sep=' ')\n",
    "df_test = pd.read_csv(\"../data/round1_ijcai_18_test_a_20180301.txt\", sep=' ')\n",
    "\n",
    "df_train.drop_duplicates(inplace=True)\n",
    "df_train = extract_date(df_train)\n",
    "df_test = extract_date(df_test)\n",
    "\n",
    "# 提取人工特征\n",
    "df_train = extract_manual_features(df_train)\n",
    "df_test = extract_manual_features(df_test, sample_weight)\n",
    "\n",
    "gbdt = GradientBoostingClassifier(n_estimators=100, max_features='auto')\n",
    "gbdt.fit(df_train[features], df_train[target])\n",
    "\n",
    "df_test['predicted_score'] = gbdt.predict_proba(df_test[features])[:, 1]\n",
    "\n",
    "df_test[['instance_id', 'predicted_score']].to_csv(\n",
    "    '20180323.txt', index=False, sep=' ')"
   ]
  },
  {
   "cell_type": "code",
   "execution_count": null,
   "metadata": {
    "collapsed": true
   },
   "outputs": [],
   "source": []
  }
 ],
 "metadata": {
  "kernelspec": {
   "display_name": "Python 3",
   "language": "python",
   "name": "python3"
  },
  "language_info": {
   "codemirror_mode": {
    "name": "ipython",
    "version": 3
   },
   "file_extension": ".py",
   "mimetype": "text/x-python",
   "name": "python",
   "nbconvert_exporter": "python",
   "pygments_lexer": "ipython3",
   "version": "3.6.2"
  }
 },
 "nbformat": 4,
 "nbformat_minor": 2
}
