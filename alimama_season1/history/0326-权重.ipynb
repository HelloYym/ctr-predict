{
 "cells": [
  {
   "cell_type": "code",
   "execution_count": 1,
   "metadata": {},
   "outputs": [],
   "source": [
    "import time\n",
    "import pandas as pd\n",
    "import numpy as np\n",
    "\n",
    "# 时间戳转字符串\n",
    "def timestamp_datetime(value):\n",
    "    format = '%Y-%m-%d %H:%M:%S'\n",
    "    value = time.localtime(value)\n",
    "    dt = time.strftime(format, value)\n",
    "    return dt"
   ]
  },
  {
   "cell_type": "markdown",
   "metadata": {},
   "source": [
    "### 提取特征"
   ]
  },
  {
   "cell_type": "code",
   "execution_count": 2,
   "metadata": {},
   "outputs": [],
   "source": [
    "numeric_feats = ['item_price_level', 'item_sales_level', 'item_collected_level', 'item_pv_level', 'user_age_level',\n",
    "                 'user_star_level', 'shop_review_num_level',\n",
    "                 'shop_review_positive_rate', 'shop_star_level', 'shop_score_service', 'shop_score_delivery', 'shop_score_description',\n",
    "                 'hour', 'day',\n",
    "                 'user_query_day', 'user_query_day_hour',\n",
    "                 'item_CTR', 'shop_CTR', \n",
    "                 ]\n",
    "\n",
    "nominal_feats = ['item_id', 'user_id', 'shop_id', 'item_brand_id',\n",
    "                 'item_city_id', 'user_gender_id', 'user_occupation_id', 'context_page_id']\n",
    "\n",
    "features = numeric_feats + nominal_feats\n",
    "\n",
    "target = 'is_trade'\n",
    "\n",
    "def extract_date(data):\n",
    "    data['time'] = data.context_timestamp.apply(timestamp_datetime)\n",
    "    data['day'] = data.time.apply(lambda x: int(x[8:10]))\n",
    "    data['hour'] = data.time.apply(lambda x: int(x[11:13]))\n",
    "    del data['time']\n",
    "    return data\n",
    "\n",
    "def extract_ctr(data, feature, alias):\n",
    "    '''统计给定数据的转化率\n",
    "    \n",
    "    '''\n",
    "    query_cnt = data.groupby([feature]).size().reset_index().rename(columns={0: 'query_cnt'})\n",
    "    conversion_cnt = data[data['is_trade'] == 1].groupby([feature]).size().reset_index().rename(columns={0: 'conversion_cnt'})\n",
    "    ctr = pd.merge(query_cnt, conversion_cnt, how='left', on=[feature])\n",
    "    ctr[['conversion_cnt']] = ctr[['conversion_cnt']].fillna(0)\n",
    "    ctr[alias] = ctr['conversion_cnt'] / ctr['query_cnt']\n",
    "    del ctr['query_cnt']\n",
    "    del ctr['conversion_cnt']\n",
    "    return ctr\n",
    "\n",
    "def extract_history_ctr(data, feature, alias):\n",
    "    '''统计每一天之前的历史转化率\n",
    "    \n",
    "    '''\n",
    "    history_ctr = pd.DataFrame(columns = [feature, alias, 'day'])\n",
    "    \n",
    "    for day in range(18, 26):\n",
    "        # 每一天之前的历史数据\n",
    "        history_data = data[data['day'] < day]\n",
    "        ctr = extract_ctr(history_data, feature, alias)        \n",
    "    \n",
    "        # 添加date字段，方便merge\n",
    "        ctr['day'] = day\n",
    "        history_ctr = history_ctr.append(ctr)\n",
    "        \n",
    "    return history_ctr\n",
    "    \n",
    "\n",
    "def extract_manual_features(data):\n",
    "    \n",
    "    user_query_day = data.groupby(['user_id', 'day']).size().reset_index().rename(columns={0: 'user_query_day'})\n",
    "    data = pd.merge(data, user_query_day, how='left',on=['user_id', 'day'])\n",
    "\n",
    "    user_query_day_hour = data.groupby(['user_id', 'day', 'hour']).size().reset_index().rename(columns={0: 'user_query_day_hour'})\n",
    "    data = pd.merge(data, user_query_day_hour, how='left',on=['user_id', 'day', 'hour'])\n",
    "    \n",
    "    \n",
    "    item_query_day = data.groupby(['item_id', 'day']).size().reset_index().rename(columns={0: 'item_query_day'})\n",
    "    data = pd.merge(data, item_query_day, 'left', on=['item_id', 'day'])\n",
    "    \n",
    "    item_query_day_hour = data.groupby(['item_id', 'day', 'hour']).size().reset_index().rename(columns={0: 'item_query_day_hour'})\n",
    "    data = pd.merge(data, item_query_day_hour, 'left',on=['item_id', 'day', 'hour'])\n",
    "    \n",
    "    shop_query_day = data.groupby(['shop_id', 'day']).size().reset_index().rename(columns={0: 'shop_query_day'})\n",
    "    data = pd.merge(data, shop_query_day, 'left', on=['shop_id', 'day'])\n",
    "    \n",
    "    shop_query_day_hour = data.groupby(['shop_id', 'day', 'hour']).size().reset_index().rename(columns={0: 'shop_query_day_hour'})\n",
    "    data = pd.merge(data, shop_query_day_hour, 'left',on=['shop_id', 'day', 'hour'])\n",
    "       \n",
    "    history_item_ctr = extract_history_ctr(data, 'item_id', 'item_CTR')\n",
    "    data = pd.merge(data, history_item_ctr, how='left', on=['item_id', 'day'])\n",
    "    data[['item_CTR']] = data[['item_CTR']].fillna(-1)\n",
    "        \n",
    "    history_shop_ctr = extract_history_ctr(data, 'shop_id', 'shop_CTR')\n",
    "    data = pd.merge(data, history_shop_ctr, how='left', on=['shop_id', 'day'])\n",
    "    data[['shop_CTR']] = data[['shop_CTR']].fillna(-1)\n",
    "    \n",
    "    history_shop_ctr = extract_history_ctr(data, 'user_id', 'user_CTR')\n",
    "    data = pd.merge(data, history_shop_ctr, how='left', on=['user_id', 'day'])\n",
    "    data[['user_CTR']] = data[['user_CTR']].fillna(-1)\n",
    "    \n",
    "    feature_with_CTR = ['shop_id', 'item_id', 'day', 'user_id']\n",
    "    data[feature_with_CTR] = data[feature_with_CTR].astype(np.int64)\n",
    "    \n",
    "#     data = pd.get_dummies(data, dummy_na=True, columns=['user_gender_id', 'user_occupation_id', 'context_page_id'])\n",
    "\n",
    "    \n",
    "#     data = data.replace(to_replace=[-1], value=np.NaN)\n",
    "#     data[numeric_feats] = data[numeric_feats].fillna(data.mean())\n",
    "#     data[numeric_feats] = data[numeric_feats].apply(lambda x: (x - x.min()) / (x.max() - x.min()))\n",
    "\n",
    "    return data"
   ]
  },
  {
   "cell_type": "markdown",
   "metadata": {},
   "source": [
    "### 读取训练样本并转换"
   ]
  },
  {
   "cell_type": "code",
   "execution_count": 3,
   "metadata": {},
   "outputs": [
    {
     "data": {
      "text/plain": [
       "((420693, 38), (57418, 38))"
      ]
     },
     "execution_count": 3,
     "metadata": {},
     "output_type": "execute_result"
    }
   ],
   "source": [
    "df_train = pd.read_csv(\"../round1_ijcai_18_train_20180301.txt\", sep=' ')\n",
    "df_test = pd.read_csv(\"../round1_ijcai_18_test_a_20180301.txt\", sep=' ')\n",
    "\n",
    "df_train.drop_duplicates(inplace=True)\n",
    "df_train = extract_date(df_train)\n",
    "df_test = extract_date(df_test)\n",
    "\n",
    "num_train = df_train.shape[0]\n",
    "all_data = pd.concat([df_train, df_test])\n",
    "all_data = extract_manual_features(all_data)\n",
    "df_train = all_data[:num_train]\n",
    "df_test = all_data[num_train:]\n",
    "del df_test['is_trade']\n",
    "\n",
    "\n",
    "# 根据日期，取24号为验证集\n",
    "train_data = df_train.loc[df_train.day < df_train['day'].max()]\n",
    "val_data = df_train.loc[df_train.day == df_train['day'].max()]\n",
    "\n",
    "train_data.shape, val_data.shape"
   ]
  },
  {
   "cell_type": "code",
   "execution_count": 4,
   "metadata": {},
   "outputs": [
    {
     "data": {
      "text/plain": [
       "((420693, 38), (57418, 38), (18371, 37))"
      ]
     },
     "execution_count": 4,
     "metadata": {},
     "output_type": "execute_result"
    }
   ],
   "source": [
    "train_data.shape,val_data.shape,df_test.shape"
   ]
  },
  {
   "cell_type": "code",
   "execution_count": null,
   "metadata": {},
   "outputs": [],
   "source": [
    "extract_ctr(df_train, feature='user_gender_id', alias='page_CTR')"
   ]
  },
  {
   "cell_type": "code",
   "execution_count": 5,
   "metadata": {},
   "outputs": [
    {
     "data": {
      "text/plain": [
       "Index(['context_id', 'context_page_id', 'context_timestamp', 'day', 'hour',\n",
       "       'instance_id', 'is_trade', 'item_brand_id', 'item_category_list',\n",
       "       'item_city_id', 'item_collected_level', 'item_id', 'item_price_level',\n",
       "       'item_property_list', 'item_pv_level', 'item_sales_level',\n",
       "       'predict_category_property', 'shop_id', 'shop_review_num_level',\n",
       "       'shop_review_positive_rate', 'shop_score_delivery',\n",
       "       'shop_score_description', 'shop_score_service', 'shop_star_level',\n",
       "       'user_age_level', 'user_gender_id', 'user_id', 'user_occupation_id',\n",
       "       'user_star_level', 'user_query_day', 'user_query_day_hour',\n",
       "       'item_query_day', 'item_query_day_hour', 'shop_query_day',\n",
       "       'shop_query_day_hour', 'item_CTR', 'shop_CTR', 'user_CTR'],\n",
       "      dtype='object')"
      ]
     },
     "execution_count": 5,
     "metadata": {},
     "output_type": "execute_result"
    }
   ],
   "source": [
    "features = ['item_price_level', 'item_sales_level', 'item_collected_level', 'item_pv_level', 'item_city_id','item_brand_id',\n",
    "                 'user_age_level', 'user_star_level', 'user_gender_id', 'user_occupation_id',\n",
    "                 'shop_review_num_level','shop_review_positive_rate', 'shop_star_level', 'shop_score_service',\n",
    "                 'shop_score_delivery', 'shop_score_description','context_page_id',\n",
    "                 'item_id', 'user_id', 'shop_id', \n",
    "                 'day','hour',\n",
    "                 'user_query_day',\n",
    "                 'user_query_day_hour',\n",
    "                 'item_query_day',\n",
    "                 'item_query_day_hour',\n",
    "                 'shop_query_day',\n",
    "                 'shop_query_day_hour',\n",
    "                 'item_CTR', \n",
    "                 'shop_CTR', \n",
    "                 'user_CTR'\n",
    "                 ]\n",
    "\n",
    "nominal_feats = ['user_gender_id',]\n",
    "\n",
    "\n",
    "\n",
    "target = 'is_trade'\n",
    "\n",
    "train_data.columns"
   ]
  },
  {
   "cell_type": "markdown",
   "metadata": {},
   "source": [
    "### lightgbm"
   ]
  },
  {
   "cell_type": "code",
   "execution_count": 6,
   "metadata": {},
   "outputs": [
    {
     "name": "stderr",
     "output_type": "stream",
     "text": [
      "D:\\Program Files (x86)\\Anaconda3\\lib\\site-packages\\lightgbm\\basic.py:1038: UserWarning: categorical_feature in Dataset is overrided. New categorical_feature is ['user_gender_id']\n",
      "  warnings.warn('categorical_feature in Dataset is overrided. New categorical_feature is {}'.format(sorted(list(categorical_feature))))\n"
     ]
    },
    {
     "data": {
      "text/plain": [
       "(0.08789133538398484, 0.08136917187073993)"
      ]
     },
     "execution_count": 6,
     "metadata": {},
     "output_type": "execute_result"
    }
   ],
   "source": [
    "import lightgbm as lgb\n",
    "from sklearn.metrics import make_scorer, precision_score, recall_score, accuracy_score, log_loss\n",
    "clf = lgb.LGBMClassifier(max_depth=4, n_estimators=100, n_jobs=-1)\n",
    "\n",
    "clf.fit(train_data[features], train_data[target], feature_name=features, categorical_feature=nominal_feats)\n",
    "\n",
    "loss_train = log_loss(train_data[target], clf.predict_proba(train_data[features]))\n",
    "loss_val = log_loss(val_data[target], clf.predict_proba(val_data[features]))\n",
    "\n",
    "loss_train, loss_val"
   ]
  },
  {
   "cell_type": "markdown",
   "metadata": {},
   "source": [
    "### 训练和测试"
   ]
  },
  {
   "cell_type": "code",
   "execution_count": null,
   "metadata": {},
   "outputs": [],
   "source": [
    "from sklearn.metrics import make_scorer, precision_score, recall_score, accuracy_score, log_loss\n",
    "from sklearn.linear_model import LogisticRegression\n",
    "\n",
    "lr = LogisticRegression(penalty=\"l2\", solver='liblinear',\n",
    "                        max_iter=1000, verbose=1)\n",
    "\n",
    "from sklearn.ensemble import GradientBoostingClassifier\n",
    "gbdt = GradientBoostingClassifier(n_estimators=100, max_features='auto')\n",
    "\n",
    "from sklearn.ensemble import RandomForestClassifier\n",
    "rf = RandomForestClassifier(n_estimators=100, n_jobs=-1, max_depth=5, bootstrap=True, max_features='auto')\n",
    "\n",
    "clf = gbdt\n",
    "clf.fit(train_data[features], train_data[target])\n",
    "\n",
    "loss_train = log_loss(train_data[target], clf.predict_proba(train_data[features]))\n",
    "predicted = clf.predict_proba(val_data[features])\n",
    "loss_val = log_loss(val_data[target], predicted)\n",
    "\n",
    "loss_train, loss_val"
   ]
  },
  {
   "cell_type": "markdown",
   "metadata": {},
   "source": [
    "# 提交测试数据"
   ]
  },
  {
   "cell_type": "code",
   "execution_count": 7,
   "metadata": {},
   "outputs": [
    {
     "data": {
      "text/plain": [
       "3.1254694899569975"
      ]
     },
     "execution_count": 7,
     "metadata": {},
     "output_type": "execute_result"
    }
   ],
   "source": [
    "sample_weight = val_data.shape[0] / df_test.shape[0]\n",
    "sample_weight"
   ]
  },
  {
   "cell_type": "code",
   "execution_count": 9,
   "metadata": {},
   "outputs": [
    {
     "data": {
      "image/png": "[encoded data removed]",
      "text/plain": [
       "<matplotlib.figure.Figure at 0x1b984648cf8>"
      ]
     },
     "metadata": {},
     "output_type": "display_data"
    },
    {
     "data": {
      "text/plain": [
       "2.435503308517988"
      ]
     },
     "execution_count": 9,
     "metadata": {},
     "output_type": "execute_result"
    }
   ],
   "source": [
    "aaa=[]\n",
    "bbb=[]\n",
    "from matplotlib import pyplot as plt\n",
    "for hour in range(0,24):\n",
    "    a = val_data[val_data['hour'] == hour]\n",
    "    aaa.append(int(len(a.groupby(['item_id']).size())))\n",
    "    \n",
    "\n",
    "    b = df_test[df_test['hour'] == hour]\n",
    "    bbb.append(int(len(b.groupby(['item_id']).size())))\n",
    "    \n",
    "    \n",
    "plt.plot(aaa, color='b', label='25')\n",
    "plt.plot(bbb, color='r', label='24')\n",
    "plt.show()\n",
    "\n",
    "aaa = np.array(aaa)\n",
    "bbb = np.array(bbb)\n",
    "\n",
    "c_item = np.mean(aaa / bbb)\n",
    "c_item"
   ]
  },
  {
   "cell_type": "code",
   "execution_count": 10,
   "metadata": {},
   "outputs": [
    {
     "data": {
      "image/png": "[encoded data removed]",
      "text/plain": [
       "<matplotlib.figure.Figure at 0x1b984db7f60>"
      ]
     },
     "metadata": {},
     "output_type": "display_data"
    },
    {
     "data": {
      "text/plain": [
       "2.295552367573261"
      ]
     },
     "execution_count": 10,
     "metadata": {},
     "output_type": "execute_result"
    }
   ],
   "source": [
    "aaa=[]\n",
    "bbb=[]\n",
    "from matplotlib import pyplot as plt\n",
    "for hour in range(0,24):\n",
    "    a = val_data[val_data['hour'] == hour]\n",
    "    aaa.append(int(len(a.groupby(['user_id']).size())))\n",
    "    \n",
    "\n",
    "    b = df_test[df_test['hour'] == hour]\n",
    "    bbb.append(int(len(b.groupby(['user_id']).size())))\n",
    "    \n",
    "    \n",
    "plt.plot(aaa, color='b', label='25')\n",
    "plt.plot(bbb, color='r', label='24')\n",
    "plt.show()\n",
    "aaa = np.array(aaa)\n",
    "bbb = np.array(bbb)\n",
    "c_user = np.mean(aaa / bbb)\n",
    "c_user"
   ]
  },
  {
   "cell_type": "code",
   "execution_count": 11,
   "metadata": {},
   "outputs": [
    {
     "data": {
      "image/png": "[encoded data removed]",
      "text/plain": [
       "<matplotlib.figure.Figure at 0x1b984cb6358>"
      ]
     },
     "metadata": {},
     "output_type": "display_data"
    },
    {
     "data": {
      "text/plain": [
       "2.1643334402556764"
      ]
     },
     "execution_count": 11,
     "metadata": {},
     "output_type": "execute_result"
    }
   ],
   "source": [
    "aaa=[]\n",
    "bbb=[]\n",
    "from matplotlib import pyplot as plt\n",
    "for hour in range(0,24):\n",
    "    a = val_data[val_data['hour'] == hour]\n",
    "    aaa.append(int(len(a.groupby(['shop_id']).size())))\n",
    "    \n",
    "\n",
    "    b = df_test[df_test['hour'] == hour]\n",
    "    bbb.append(int(len(b.groupby(['shop_id']).size())))\n",
    "    \n",
    "    \n",
    "plt.plot(aaa, color='b', label='25')\n",
    "plt.plot(bbb, color='r', label='24')\n",
    "plt.show()\n",
    "\n",
    "aaa = np.array(aaa)\n",
    "bbb = np.array(bbb)\n",
    "c_shop = np.mean(aaa / bbb)\n",
    "c_shop"
   ]
  },
  {
   "cell_type": "code",
   "execution_count": 12,
   "metadata": {},
   "outputs": [
    {
     "name": "stderr",
     "output_type": "stream",
     "text": [
      "D:\\Program Files (x86)\\Anaconda3\\lib\\site-packages\\pandas\\core\\frame.py:2540: SettingWithCopyWarning: \n",
      "A value is trying to be set on a copy of a slice from a DataFrame.\n",
      "Try using .loc[row_indexer,col_indexer] = value instead\n",
      "\n",
      "See the caveats in the documentation: http://pandas.pydata.org/pandas-docs/stable/indexing.html#indexing-view-versus-copy\n",
      "  self[k1] = value[k2]\n"
     ]
    }
   ],
   "source": [
    "feats_user = ['user_query_day', 'user_query_day_hour']\n",
    "feats_item = ['item_query_day', 'item_query_day_hour']      \n",
    "feats_shop = ['shop_query_day', 'shop_query_day_hour']           \n",
    "\n",
    "df_test[feats_user] = df_test[feats_user] * sample_weight / c_user\n",
    "df_test[feats_item] = df_test[feats_item] * sample_weight / c_item\n",
    "df_test[feats_shop] = df_test[feats_shop] * sample_weight / c_shop"
   ]
  },
  {
   "cell_type": "code",
   "execution_count": null,
   "metadata": {},
   "outputs": [],
   "source": [
    "df_train.head"
   ]
  },
  {
   "cell_type": "code",
   "execution_count": 13,
   "metadata": {},
   "outputs": [
    {
     "name": "stderr",
     "output_type": "stream",
     "text": [
      "D:\\Program Files (x86)\\Anaconda3\\lib\\site-packages\\lightgbm\\basic.py:1038: UserWarning: categorical_feature in Dataset is overrided. New categorical_feature is ['user_gender_id']\n",
      "  warnings.warn('categorical_feature in Dataset is overrided. New categorical_feature is {}'.format(sorted(list(categorical_feature))))\n",
      "D:\\Program Files (x86)\\Anaconda3\\lib\\site-packages\\ipykernel_launcher.py:7: SettingWithCopyWarning: \n",
      "A value is trying to be set on a copy of a slice from a DataFrame.\n",
      "Try using .loc[row_indexer,col_indexer] = value instead\n",
      "\n",
      "See the caveats in the documentation: http://pandas.pydata.org/pandas-docs/stable/indexing.html#indexing-view-versus-copy\n",
      "  import sys\n"
     ]
    },
    {
     "data": {
      "text/plain": [
       "0.08709125322281835"
      ]
     },
     "execution_count": 13,
     "metadata": {},
     "output_type": "execute_result"
    }
   ],
   "source": [
    "\n",
    "clf = lgb.LGBMClassifier(max_depth=4, n_estimators=100, n_jobs=-1)\n",
    "clf.fit(df_train[features], df_train[target], feature_name=features, categorical_feature=['user_gender_id'])\n",
    "\n",
    "loss_train = log_loss(df_train[target], clf.predict_proba(df_train[features]))\n",
    "\n",
    "df_test['predicted_score'] = clf.predict_proba(df_test[features])[:, 1]\n",
    "\n",
    "df_test[['instance_id', 'predicted_score']].to_csv(\n",
    "    '20180326.txt', index=False, sep=' ')\n",
    "\n",
    "loss_train"
   ]
  },
  {
   "cell_type": "code",
   "execution_count": null,
   "metadata": {},
   "outputs": [],
   "source": []
  }
 ],
 "metadata": {
  "kernelspec": {
   "display_name": "Python 3",
   "language": "python",
   "name": "python3"
  },
  "language_info": {
   "codemirror_mode": {
    "name": "ipython",
    "version": 3
   },
   "file_extension": ".py",
   "mimetype": "text/x-python",
   "name": "python",
   "nbconvert_exporter": "python",
   "pygments_lexer": "ipython3",
   "version": "3.6.4"
  }
 },
 "nbformat": 4,
 "nbformat_minor": 2
}
