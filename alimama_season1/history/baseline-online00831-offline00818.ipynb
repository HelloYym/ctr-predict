{
 "cells": [
  {
   "cell_type": "code",
   "execution_count": 11,
   "metadata": {
    "collapsed": true
   },
   "outputs": [],
   "source": [
    "import time\n",
    "import pandas as pd\n",
    "import lightgbm as lgb\n",
    "from sklearn.metrics import log_loss\n",
    "\n",
    "\n",
    "def timestamp_datetime(value):\n",
    "    format = '%Y-%m-%d %H:%M:%S'\n",
    "    value = time.localtime(value)\n",
    "    dt = time.strftime(format, value)\n",
    "    return dt\n",
    "\n",
    "\n",
    "def convert_data(data):\n",
    "    data['time'] = data.context_timestamp.apply(timestamp_datetime)\n",
    "    data['day'] = data.time.apply(lambda x: int(x[8:10]))\n",
    "    data['hour'] = data.time.apply(lambda x: int(x[11:13]))\n",
    "    user_query_day = data.groupby(['user_id', 'day']).size(\n",
    "    ).reset_index().rename(columns={0: 'user_query_day'})\n",
    "    data = pd.merge(data, user_query_day, 'left', on=['user_id', 'day'])\n",
    "    user_query_day_hour = data.groupby(['user_id', 'day', 'hour']).size().reset_index().rename(\n",
    "        columns={0: 'user_query_day_hour'})\n",
    "    data = pd.merge(data, user_query_day_hour, 'left',\n",
    "                    on=['user_id', 'day', 'hour'])\n",
    "\n",
    "    return data"
   ]
  },
  {
   "cell_type": "code",
   "execution_count": 17,
   "metadata": {},
   "outputs": [
    {
     "name": "stderr",
     "output_type": "stream",
     "text": [
      "/home/user02/miniconda3/envs/gluon/lib/python3.6/site-packages/lightgbm/basic.py:1038: UserWarning: categorical_feature in Dataset is overrided. New categorical_feature is ['item_brand_id']\n",
      "  warnings.warn('categorical_feature in Dataset is overrided. New categorical_feature is {}'.format(sorted(list(categorical_feature))))\n"
     ]
    },
    {
     "name": "stdout",
     "output_type": "stream",
     "text": [
      "0.0819597542973\n"
     ]
    }
   ],
   "source": [
    "data = pd.read_csv('round1_ijcai_18_train_20180301.txt', sep=' ')\n",
    "data.drop_duplicates(inplace=True)\n",
    "data = convert_data(data)\n",
    "\n",
    "\n",
    "train = data.loc[data.day < 24]  # 18,19,20,21,22,23,24\n",
    "test = data.loc[data.day == 24]  # 暂时先使用第24天作为验证集\n",
    "\n",
    "\n",
    "features = ['item_id', 'item_brand_id', 'item_city_id', 'item_price_level', 'item_sales_level',\n",
    "            'item_collected_level', 'item_pv_level', 'user_gender_id', 'user_occupation_id',\n",
    "            'user_age_level', 'user_star_level', \n",
    "            'context_page_id', 'hour', 'shop_id', 'shop_review_num_level', 'shop_star_level',\n",
    "            'shop_review_positive_rate', 'shop_score_service', 'shop_score_delivery', 'shop_score_description',\n",
    "            'user_query_day', 'user_query_day_hour'\n",
    "            ]\n",
    "\n",
    "target = 'is_trade'\n",
    "\n",
    "clf = lgb.LGBMClassifier(\n",
    "    num_leaves=63, max_depth=7, n_estimators=80, n_jobs=20)\n",
    "clf.fit(train[features], train[target], feature_name=features,\n",
    "        categorical_feature=['user_gender_id'])\n",
    "lgb_predict = clf.predict_proba(test[features],)[:, 1]\n",
    "print(log_loss(test[target], lgb_predict))\n"
   ]
  },
  {
   "cell_type": "code",
   "execution_count": null,
   "metadata": {
    "collapsed": true
   },
   "outputs": [],
   "source": []
  }
 ],
 "metadata": {
  "kernelspec": {
   "display_name": "Python 3",
   "language": "python",
   "name": "python3"
  },
  "language_info": {
   "codemirror_mode": {
    "name": "ipython",
    "version": 3
   },
   "file_extension": ".py",
   "mimetype": "text/x-python",
   "name": "python",
   "nbconvert_exporter": "python",
   "pygments_lexer": "ipython3",
   "version": "3.6.2"
  }
 },
 "nbformat": 4,
 "nbformat_minor": 2
}
